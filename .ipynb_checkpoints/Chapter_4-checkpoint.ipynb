{
 "cells": [
  {
   "cell_type": "markdown",
   "metadata": {},
   "source": [
    "# Main topics of this chapter\n",
    "---\n",
    "* NN with One Hidden Layer\n",
    "* Algorithm Hot Cold \n",
    "* Gradient Desert \n",
    "* Derivative\n",
    "* Break Gradient Desert\n",
    "* Alpha Coef\n",
    "---"
   ]
  },
  {
   "cell_type": "markdown",
   "metadata": {},
   "source": [
    "### Neural Network With One Hidden Layer"
   ]
  },
  {
   "cell_type": "code",
   "execution_count": 2,
   "metadata": {},
   "outputs": [
    {
     "name": "stdout",
     "output_type": "stream",
     "text": [
      "[0.285 0.158 0.591]\n"
     ]
    }
   ],
   "source": [
    "import numpy as np\n",
    "\n",
    "input_weight = np.array([\n",
    "    [0.1, 0.2, -0.1], # hid[0]\n",
    "    [-0.1, 0.2, 0.9], # hid[1]\n",
    "    [0.1, 0.4, 0.1],  # hid[2]\n",
    "]).T\n",
    "\n",
    "hidden_weight = np.array([\n",
    "    [0.3, 1.1, -0.3],\n",
    "    [0.1, 0.2, 0.0],\n",
    "    [0.0, 1.3, 0.1],\n",
    "]).T\n",
    "\n",
    "weights = [input_weight, hidden_weight]\n",
    "\n",
    "def neural_network(inputL, weights):\n",
    "    hidden = inputL.dot(weights[0]) # Dot scalar multiplay\n",
    "    prediction = hidden.dot(weights[1])\n",
    "    return prediction\n",
    "\n",
    "toes = np.array([8.5, 9.5, 9.9])\n",
    "wlrec = np.array([0.65, 0.8, 0.8])\n",
    "nfans = np.array([1.2, 1.3, 0.5])\n",
    "\n",
    "inputL = np.array([toes[0], wlrec[0], nfans[0]])\n",
    "\n",
    "pred = neural_network(inputL, weights)\n",
    "print(pred)\n",
    "# "
   ]
  },
  {
   "cell_type": "markdown",
   "metadata": {},
   "source": [
    "## Chapter 4\n",
    "- Обучение - процесс определения ошибки и получение прогнозов.\n",
    "- Градиентный спуск - позволяет вычислить для каждого веса некоторое число, определяющие насколько этот вес должен быть выше или ниже, чтобы уменьшить ошибку. \n",
    "- Ошибка - это мера промаха.\n",
    "\n",
    "ошибка возводится в квадрат, чтобы большая ошибка стала еще больше(10^2 == 100) и при меньшой ошибки меньше(0.001^2 == 0.000001)\n",
    "\n",
    "**Почему ошибка должна быть положительной?**\n",
    " если одна ошибка будет 100, а вторая -100, то средняя ошибка будет нулю, что в корне не верно. Чтобы не компенсировать друг друга при усреднении.\n",
    " \n",
    "**Обучение методом горячо-холодно** - изменение весов в разное направление, чтобы понять какое ведет к уменьшению ошибки"
   ]
  },
  {
   "cell_type": "code",
   "execution_count": 9,
   "metadata": {},
   "outputs": [],
   "source": [
    "# Обычная сетка \n",
    "def nn(inputs, weight):\n",
    "    prediction = inputs * weight\n",
    "    return prediction\n",
    "\n",
    "\n",
    "# 1) An Empty Network\n",
    "\n",
    "weight = 0.1 \n",
    "lr = 0.01    # будем увеличивать или уменьшать веса на это значение\n",
    "\n",
    "# 2) PREDICT: Making A Prediction And Evaluating Error\n",
    "number_of_toes = [8.5] # Количество игр\n",
    "win_or_lose_binary = [1] #(won!!!) y-real to won in game \n",
    "\n",
    "inputs = number_of_toes[0]\n",
    "y = win_or_lose_binary[0]"
   ]
  },
  {
   "cell_type": "code",
   "execution_count": 11,
   "metadata": {},
   "outputs": [
    {
     "name": "stdout",
     "output_type": "stream",
     "text": [
      "Started error: 0.022499999999999975\n"
     ]
    }
   ],
   "source": [
    "# Beging Error \n",
    "y_pred = nn(inputs, weight)\n",
    "started_error = (y - y_pred) ** 2\n",
    "print('Started error:', started_error)"
   ]
  },
  {
   "cell_type": "code",
   "execution_count": 13,
   "metadata": {},
   "outputs": [
    {
     "name": "stdout",
     "output_type": "stream",
     "text": [
      "Started error: 0.004224999999999993\n"
     ]
    }
   ],
   "source": [
    "# COMPARE: Adding LR to weight And See Error\n",
    "y_pred = nn(inputs, weight + lr) \n",
    "add_lr_error = (y - y_pred) ** 2\n",
    "print('Started error:', add_lr_error)"
   ]
  },
  {
   "cell_type": "code",
   "execution_count": 14,
   "metadata": {},
   "outputs": [
    {
     "name": "stdout",
     "output_type": "stream",
     "text": [
      "Started error: 0.05522499999999994\n"
     ]
    }
   ],
   "source": [
    "# COMPARE: Minus LR to weight And See Error\n",
    "y_pred = nn(inputs, weight - lr) \n",
    "minus_lr_error = (y - y_pred) ** 2\n",
    "print('Started error:', minus_lr_error)"
   ]
  },
  {
   "cell_type": "markdown",
   "metadata": {},
   "source": [
    "### Выше одна итерация алгоритма \"горячо холодно\" \n",
    "Описание алгоритма \n",
    "\n",
    "- Сначала прибавляем вес, потом уменьшаем и смотрим где ошибка уменьшалась\n",
    "- После этого изменяем, вес в том направлении где ошибка уменьшилась\n",
    "\n",
    "**Основные проблемы алгоритма** \n",
    "\n",
    "- Неэффективен \n",
    "- Невозможно добиться точный прогнозов "
   ]
  },
  {
   "cell_type": "code",
   "execution_count": 18,
   "metadata": {},
   "outputs": [
    {
     "name": "stdout",
     "output_type": "stream",
     "text": [
      "Error:0.30250000000000005 Prediction:0.25\n",
      "Error:0.29702500000000004 Prediction:0.255\n",
      "Error:0.2916 Prediction:0.26\n",
      "Error:0.286225 Prediction:0.265\n",
      "Error:0.28090000000000004 Prediction:0.27\n",
      "Error:0.275625 Prediction:0.275\n",
      "Error:0.27040000000000003 Prediction:0.28\n",
      "Error:0.265225 Prediction:0.28500000000000003\n",
      "Error:0.2601 Prediction:0.29000000000000004\n",
      "Error:0.255025 Prediction:0.29500000000000004\n"
     ]
    }
   ],
   "source": [
    "weight = 0.5          # Изначальный вес\n",
    "input = 0.5           # Входное значение \n",
    "goal_prediction = 0.8 # Искомое значение \n",
    "\n",
    "step_amount = 0.01 # Learning Rate \n",
    "\n",
    "# При 1001 итерации мы приблизимся к нашему искомому значению\n",
    "for iteration in range(10):\n",
    "\n",
    "    prediction = input * weight\n",
    "    error = (prediction - goal_prediction) ** 2\n",
    "\n",
    "    print(\"Error:\" + str(error) + \" Prediction:\" + str(prediction))\n",
    "    \n",
    "    # Увеличиваем, потом уменьшаем вес и смотрим где ошибка меньше \n",
    "    \n",
    "    up_prediction = input * (weight + step_amount)\n",
    "    up_error = (goal_prediction - up_prediction) ** 2\n",
    "\n",
    "    down_prediction = input * (weight - step_amount)\n",
    "    down_error = (goal_prediction - down_prediction) ** 2\n",
    "\n",
    "    if(down_error < up_error):\n",
    "        weight = weight - step_amount\n",
    "        \n",
    "    if(down_error > up_error):\n",
    "        weight = weight + step_amount"
   ]
  },
  {
   "cell_type": "markdown",
   "metadata": {},
   "source": [
    "### Но лучше использовать Градиентный спуск\n",
    "\n",
    "Этот метод позволяет в одной строке вычислить и ошибку и направление "
   ]
  },
  {
   "cell_type": "code",
   "execution_count": 6,
   "metadata": {},
   "outputs": [
    {
     "name": "stdout",
     "output_type": "stream",
     "text": [
      "Error:0.36 Prediction:0.25\n",
      "Error:0.34222499999999995 Prediction:0.265\n",
      "Error:0.32532764062499997 Prediction:0.279625\n",
      "Error:0.3092645883691405 Prediction:0.29388437500000003\n"
     ]
    }
   ],
   "source": [
    "weight = 0.5           # Изначальный вес\n",
    "input = 0.5            # Входное значение \n",
    "goal_prediction = 0.85 # Искомое значение \n",
    "\n",
    "\n",
    "# delta -  Она определяет чистую разность между прогнозом и истинным значением\n",
    "for iteration in range(4):\n",
    "    pred = input * weight\n",
    "    error = (pred - goal_prediction) ** 2\n",
    "    \n",
    "    # Здесь в delta записывается величина промаха. pred-0.85 y-1.0, \n",
    "    # то есть промах сети оказался на - 0.15 \n",
    "    delta = pred - goal_prediction\n",
    "    \n",
    "    # weight_delta определяет величину измнения веса, обусловленную промахом сети\n",
    "    # производная т.к. показывает зависимость двух переменных\n",
    "    weight_delta = delta * input\n",
    "    \n",
    "    # Этот коэф помогает управлять скоростью обучения сети\n",
    "    alpha = 0.1\n",
    "    \n",
    "    weight = weight - weight_delta * alpha\n",
    "    \n",
    "    print(\"Error:\" + str(error) + \" Prediction:\" + str(pred))"
   ]
  },
  {
   "cell_type": "markdown",
   "metadata": {},
   "source": [
    "### Посмотрим каждый шаг итерации"
   ]
  },
  {
   "cell_type": "code",
   "execution_count": 8,
   "metadata": {},
   "outputs": [
    {
     "name": "stdout",
     "output_type": "stream",
     "text": [
      "-----\n",
      "Weight:0.0\n",
      "Error:0.6400000000000001 Prediction:0.0\n",
      "Delta:-0.8 Weight Delta:-0.8800000000000001\n",
      "Точка отрицательно => нужно прибавить\n",
      "-----\n",
      "Weight:0.8800000000000001\n",
      "Error:0.02822400000000005 Prediction:0.9680000000000002\n",
      "Delta:0.16800000000000015 Weight Delta:0.1848000000000002\n",
      "Точка находится справа, чтобы приблизится к нулю(error) нужно вычисть(противоположный знак)\n",
      "-----\n",
      "Weight:0.6951999999999999\n",
      "Error:0.0012446784000000064 Prediction:0.76472\n",
      "Delta:-0.03528000000000009 Weight Delta:-0.0388080000000001\n",
      "Точка отрицательно => нужно прибавить\n",
      "-----\n",
      "Weight:0.734008\n",
      "Error:5.4890317439999896e-05 Prediction:0.8074088\n",
      "Delta:0.007408799999999993 Weight Delta:0.008149679999999992\n",
      "Точка находится справа, чтобы приблизится к нулю(error) нужно вычисть(противоположный знак)\n"
     ]
    }
   ],
   "source": [
    "weight, goal_pred, input_value = (0.0, 0.8, 1.1)\n",
    "\n",
    "# One iteration numbers \n",
    "for iteration in range(4):\n",
    "    print(\"-----\\nWeight:\" + str(weight))\n",
    "    # 0.8 * 0 = 0(pred) \n",
    "    pred = input_value * weight\n",
    "    # (0 - 0.8) ** 2 = 0.64(error)\n",
    "    error = (pred - goal_pred) ** 2\n",
    "    # 0 - 0.8 = -0.8(delta)\n",
    "    delta = pred - goal_pred\n",
    "    # -0.8 * 1.1 = -0.88\n",
    "    weight_delta = delta * input_value\n",
    "    # 0 -(-0.88) = 0.88 (Next Iteration Starts From 0.88)\n",
    "    weight = weight - weight_delta\n",
    "    print(\"Error:\" + str(error) + \" Prediction:\" + str(pred))\n",
    "    print(\"Delta:\" + str(delta) + \" Weight Delta:\" + str(weight_delta))\n",
    "    if weight_delta > 0:\n",
    "        print('Точка находится справа, чтобы приблизится к нулю(error) нужно вычисть(противоположный знак)')\n",
    "    else:\n",
    "        print('Точка отрицательно => нужно прибавить')\n",
    "    "
   ]
  },
  {
   "cell_type": "markdown",
   "metadata": {},
   "source": [
    "# Ломаем градиентный спуск \n",
    "* Если значение **input будет 0.5 то все окей** код работает \n",
    "* Если **поменять значение на 2**, то все сломается, происходит **избыточная корректировка веса**"
   ]
  },
  {
   "cell_type": "code",
   "execution_count": 14,
   "metadata": {},
   "outputs": [
    {
     "name": "stdout",
     "output_type": "stream",
     "text": [
      "--------------------\n",
      "Weight: 0.5\n",
      "Error:0.03999999999999998 Prediction:1.0 Weight Delta:0.3999999999999999\n",
      "--------------------\n",
      "Weight: 0.10000000000000009\n",
      "Error:0.3599999999999998 Prediction:0.20000000000000018 Weight Delta:-1.1999999999999997\n",
      "--------------------\n",
      "Weight: 1.2999999999999998\n",
      "Error:3.2399999999999984 Prediction:2.5999999999999996 Weight Delta:3.599999999999999\n",
      "--------------------\n",
      "Weight: -2.2999999999999994\n",
      "Error:29.159999999999986 Prediction:-4.599999999999999 Weight Delta:-10.799999999999997\n",
      "--------------------\n",
      "Weight: 8.499999999999998\n",
      "Error:262.4399999999999 Prediction:16.999999999999996 Weight Delta:32.39999999999999\n",
      "--------------------\n",
      "Weight: -23.89999999999999\n",
      "Error:2361.959999999998 Prediction:-47.79999999999998 Weight Delta:-97.19999999999996\n",
      "--------------------\n",
      "Weight: 73.29999999999997\n",
      "Error:21257.639999999978 Prediction:146.59999999999994 Weight Delta:291.59999999999985\n",
      "--------------------\n",
      "Weight: -218.2999999999999\n",
      "Error:191318.75999999983 Prediction:-436.5999999999998 Weight Delta:-874.7999999999996\n",
      "--------------------\n",
      "Weight: 656.4999999999998\n",
      "Error:1721868.839999999 Prediction:1312.9999999999995 Weight Delta:2624.399999999999\n",
      "--------------------\n",
      "Weight: -1967.8999999999994\n",
      "Error:15496819.559999991 Prediction:-3935.799999999999 Weight Delta:-7873.199999999998\n",
      "--------------------\n",
      "Weight: 5905.299999999998\n",
      "Error:139471376.03999993 Prediction:11810.599999999997 Weight Delta:23619.599999999995\n",
      "--------------------\n",
      "Weight: -17714.299999999996\n",
      "Error:1255242384.3599997 Prediction:-35428.59999999999 Weight Delta:-70858.79999999999\n",
      "--------------------\n",
      "Weight: 53144.49999999999\n",
      "Error:11297181459.239996 Prediction:106288.99999999999 Weight Delta:212576.39999999997\n",
      "--------------------\n",
      "Weight: -159431.89999999997\n",
      "Error:101674633133.15994 Prediction:-318863.79999999993 Weight Delta:-637729.1999999998\n",
      "--------------------\n",
      "Weight: 478297.2999999999\n",
      "Error:915071698198.4395 Prediction:956594.5999999997 Weight Delta:1913187.5999999994\n",
      "--------------------\n",
      "Weight: -1434890.2999999996\n",
      "Error:8235645283785.954 Prediction:-2869780.599999999 Weight Delta:-5739562.799999998\n",
      "--------------------\n",
      "Weight: 4304672.499999998\n",
      "Error:74120807554073.56 Prediction:8609344.999999996 Weight Delta:17218688.39999999\n",
      "--------------------\n",
      "Weight: -12914015.899999993\n",
      "Error:667087267986662.1 Prediction:-25828031.799999986 Weight Delta:-51656065.19999997\n",
      "--------------------\n",
      "Weight: 38742049.29999998\n",
      "Error:6003785411879960.0 Prediction:77484098.59999996 Weight Delta:154968195.59999993\n",
      "--------------------\n",
      "Weight: -116226146.29999995\n",
      "Error:5.403406870691965e+16 Prediction:-232452292.5999999 Weight Delta:-464904586.79999983\n"
     ]
    }
   ],
   "source": [
    "weight = 0.5\n",
    "goal_pred = 0.8\n",
    "input = 2\n",
    "\n",
    "for iteration in range(20):\n",
    "    print('-'*20)\n",
    "    print(\"Weight:\", weight)\n",
    "    pred = input * weight\n",
    "    error = (pred - goal_pred) ** 2\n",
    "    delta = pred - goal_pred\n",
    "    weight_delta = input * delta\n",
    "    weight = weight - weight_delta\n",
    "    print(\"Error:\" + str(error) + \" Prediction:\" + str(pred) + \" Weight Delta:\"+ str(weight_delta))"
   ]
  },
  {
   "cell_type": "markdown",
   "metadata": {},
   "source": [
    "### Чтобы справиться с этой проблемой, мы вводим альфа коэф для балансировки веса\n",
    "* **Alpha** - Это число от 0 до 1, которое корректирует вес, оно берется наугад\n",
    "* Если опять рассхождение наблюдается значит альфа коэф слишком велик\n",
    "* Если медленно обучается значит мал"
   ]
  },
  {
   "cell_type": "code",
   "execution_count": 23,
   "metadata": {},
   "outputs": [
    {
     "name": "stdout",
     "output_type": "stream",
     "text": [
      "--------------------\n",
      "Weight: 0.5\n",
      "Error:0.25 Prediction:1.0 Derivative:-1.0\n",
      "--------------------\n",
      "Weight: 0.6\n",
      "Error:0.09000000000000002 Prediction:1.2 Derivative:-0.6000000000000001\n",
      "--------------------\n",
      "Weight: 0.66\n",
      "Error:0.03239999999999998 Prediction:1.32 Derivative:-0.3599999999999999\n",
      "--------------------\n",
      "Weight: 0.6960000000000001\n",
      "Error:0.011663999999999973 Prediction:1.3920000000000001 Derivative:-0.21599999999999975\n",
      "--------------------\n",
      "Weight: 0.7176\n",
      "Error:0.004199039999999996 Prediction:1.4352 Derivative:-0.12959999999999994\n",
      "--------------------\n",
      "Weight: 0.73056\n",
      "Error:0.001511654400000002 Prediction:1.46112 Derivative:-0.07776000000000005\n",
      "--------------------\n",
      "Weight: 0.738336\n",
      "Error:0.0005441955840000007 Prediction:1.476672 Derivative:-0.04665600000000003\n",
      "--------------------\n",
      "Weight: 0.7430016\n",
      "Error:0.00019591041023999777 Prediction:1.4860032 Derivative:-0.02799359999999984\n",
      "--------------------\n",
      "Weight: 0.7458009600000001\n",
      "Error:7.052774768639771e-05 Prediction:1.4916019200000001 Derivative:-0.016796159999999727\n",
      "--------------------\n",
      "Weight: 0.7474805760000001\n",
      "Error:2.5389989167102727e-05 Prediction:1.4949611520000001 Derivative:-0.010077695999999747\n",
      "--------------------\n",
      "Weight: 0.7484883456\n",
      "Error:9.140396100157518e-06 Prediction:1.4969766912 Derivative:-0.006046617600000026\n",
      "--------------------\n",
      "Weight: 0.74909300736\n",
      "Error:3.290542596057029e-06 Prediction:1.49818601472 Derivative:-0.0036279705600001932\n",
      "--------------------\n",
      "Weight: 0.749455804416\n",
      "Error:1.184595334580337e-06 Prediction:1.498911608832 Derivative:-0.0021767823359999383\n",
      "--------------------\n",
      "Weight: 0.7496734826496\n",
      "Error:4.2645432044897935e-07 Prediction:1.4993469652992 Derivative:-0.0013060694016000518\n",
      "--------------------\n",
      "Weight: 0.74980408958976\n",
      "Error:1.5352355536166736e-07 Prediction:1.49960817917952 Derivative:-0.0007836416409601199\n",
      "--------------------\n",
      "Weight: 0.749882453753856\n",
      "Error:5.526847993020025e-08 Prediction:1.499764907507712 Derivative:-0.00047018498457607194\n",
      "--------------------\n",
      "Weight: 0.7499294722523135\n",
      "Error:1.9896652774897148e-08 Prediction:1.499858944504627 Derivative:-0.0002821109907458208\n",
      "--------------------\n",
      "Weight: 0.7499576833513881\n",
      "Error:7.162794998962973e-09 Prediction:1.4999153667027763 Derivative:-0.00016926659444749248\n",
      "--------------------\n",
      "Weight: 0.7499746100108329\n",
      "Error:2.5786061996266703e-09 Prediction:1.4999492200216658 Derivative:-0.00010155995666849549\n",
      "--------------------\n",
      "Weight: 0.7499847660064998\n",
      "Error:9.282982318601891e-10 Prediction:1.4999695320129995 Derivative:-6.093597400091966e-05\n"
     ]
    }
   ],
   "source": [
    "weight = 0.5\n",
    "goal = 1.5\n",
    "input_value = 2\n",
    "alpha = 0.1\n",
    "\n",
    "for iteration in range(20):\n",
    "    print('-'*20)\n",
    "    print(\"Weight:\", weight)\n",
    "    \n",
    "    pred = input_value * weight\n",
    "    \n",
    "    error = (pred - goal) ** 2\n",
    "    # Производная, которая и отвечает за наклон и где находится точка слева или справа \n",
    "    derivative = input_value * (pred - goal)\n",
    "    # Добавляем аlpha для уменьшения рассхождения\n",
    "    weight = weight - (derivative * alpha) \n",
    "    \n",
    "    print(\"Error:\" + str(error) + \n",
    "          \" Prediction:\" + str(pred) + \n",
    "          \" Derivative:\"+ str(derivative))\n",
    "    \n"
   ]
  },
  {
   "cell_type": "code",
   "execution_count": null,
   "metadata": {},
   "outputs": [],
   "source": []
  }
 ],
 "metadata": {
  "kernelspec": {
   "display_name": "Python 3",
   "language": "python",
   "name": "python3"
  },
  "language_info": {
   "codemirror_mode": {
    "name": "ipython",
    "version": 3
   },
   "file_extension": ".py",
   "mimetype": "text/x-python",
   "name": "python",
   "nbconvert_exporter": "python",
   "pygments_lexer": "ipython3",
   "version": "3.6.2"
  }
 },
 "nbformat": 4,
 "nbformat_minor": 2
}

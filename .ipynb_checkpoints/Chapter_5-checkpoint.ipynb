{
 "cells": [
  {
   "cell_type": "markdown",
   "metadata": {},
   "source": [
    "# Chapter 5\n",
    "---\n",
    "Main Topics:\n",
    "* Gradient Desert With Many Inputs\n",
    "* Gradient Desert With Many Outputs\n",
    "\n"
   ]
  },
  {
   "cell_type": "markdown",
   "metadata": {},
   "source": [
    "### Gradient Desert With Many Inputs"
   ]
  },
  {
   "cell_type": "code",
   "execution_count": 42,
   "metadata": {},
   "outputs": [
    {
     "name": "stdout",
     "output_type": "stream",
     "text": [
      "--------------------\n",
      "Iteration: 1\n",
      "\n",
      "Error: 0.01959999999999997\n",
      "Prediction: 0.8600000000000001\n",
      "Weights:  [0.1119, 0.20091, -0.09832]\n",
      "Derivative:  [-1.189999999999999, -0.09099999999999994, -0.16799999999999987]\n",
      "--------------------\n",
      "Iteration: 2\n",
      "\n",
      "Error: 0.0013135188062500048\n",
      "Prediction: 0.9637574999999999\n",
      "Weights:  [0.11498061250000001, 0.20114557625, -0.09788509000000001]\n",
      "Derivative:  [-0.30806125000000056, -0.023557625000000044, -0.04349100000000008]\n",
      "--------------------\n",
      "Iteration: 3\n",
      "\n",
      "Error: 8.802712522307997e-05\n",
      "Prediction: 0.9906177228125002\n",
      "Weights:  [0.1157781060609375, 0.20120656105171877, -0.09777250267375001]\n",
      "Derivative:  [-0.07974935609374867, -0.006098480171874899, -0.011258732624999811]\n"
     ]
    }
   ],
   "source": [
    "# What values we used ?\n",
    "\n",
    "toes =  [8.5, 9.5, 9.9, 9.0]\n",
    "wlrec = [0.65, 0.8, 0.8, 0.9]\n",
    "nfans = [1.2, 1.3, 0.5, 1.0]\n",
    "\n",
    "win_or_lose_binary = [1, 1, 0, 1]\n",
    "\n",
    "true_value = win_or_lose_binary[0]\n",
    "\n",
    "# Input corresponds to every entry\n",
    "# for the first game of the season.\n",
    "inputs = [toes[0],wlrec[0],nfans[0]]\n",
    "\n",
    "weights = [0.1, 0.2, -0.1]\n",
    "\n",
    "\n",
    "def weight_sum(inputs_value, weights):\n",
    "    \"\"\"\n",
    "        Сумма Весов\n",
    "        return: one value 0.86\n",
    "    \"\"\"\n",
    "    \n",
    "    assert len(inputs_value) == len(weights), 'Inputs Value And Weights Should Be Same Size'\n",
    "    \n",
    "    output = 0\n",
    "    \n",
    "    for i in range(len(inputs_value)):\n",
    "        output += (inputs_value[i] * weights[i])\n",
    "    return output\n",
    "\n",
    "def neural_network(input_value, weights):\n",
    "    pred = weight_sum(input_value, weights)\n",
    "    return pred\n",
    "\n",
    "def ele_mul(delta, input_vector):\n",
    "    \"\"\"\n",
    "        Умножение дельты на входные значения \n",
    "        return: Derivative [-1.19, -0.09, -0.168]\n",
    "    \"\"\"\n",
    "    output = [0,0,0]\n",
    "\n",
    "    assert(len(output) == len(input_vector))\n",
    "\n",
    "    for i in range(len(input_vector)):\n",
    "        output[i] = delta * input_vector[i]\n",
    "\n",
    "    return output\n",
    "\n",
    "for i in range(3):\n",
    "    \n",
    "    print('-'*20)\n",
    "    print('Iteration:', i + 1)\n",
    "    \n",
    "    prediction_value = neural_network(inputs, weights)\n",
    "\n",
    "    error = (prediction_value - true_value) ** 2\n",
    "\n",
    "    # Разность delta определяет величину, \n",
    "    # на которую желательно скорректировать выходное значение.\n",
    "    # Если положительное, то прогноз имеет большое значение, если отрицательное, \n",
    "    # то слишком маленькое значение\n",
    "    delta = prediction_value - true_value\n",
    "\n",
    "    derivative = ele_mul(delta, inputs)\n",
    "\n",
    "    # Корректировка веса\n",
    "    alpha = 0.01\n",
    "\n",
    "    for i in range(len(weights)):\n",
    "        weights[i] = weights[i] - (derivative[i] * alpha)\n",
    "\n",
    "    print('\\nError: ' + str(error))\n",
    "    print('Prediction: ' + str(prediction_value))\n",
    "    \n",
    "    print('Weights: ', weights)\n",
    "    print('Derivative: ', derivative)\n",
    "\n"
   ]
  },
  {
   "cell_type": "markdown",
   "metadata": {},
   "source": [
    "### Gradient Desert With Many Outputs\n",
    "Основная особенность заключается, что мы считаем ошибку для каждого входного значения. Для каждого выхода нужно вычислить свою разность delta и затем умножить их на единственный вход. В результате получатся приращения weight_delta для всех весов."
   ]
  },
  {
   "cell_type": "code",
   "execution_count": 43,
   "metadata": {},
   "outputs": [
    {
     "name": "stdout",
     "output_type": "stream",
     "text": [
      "Error:  [0.009025, 0.7569, 0.2352250000000001]\n",
      "Weights:[0.293825, 0.25655, 0.868475]\n",
      "Weight Deltas:[0.061750000000000006, -0.5655, 0.3152500000000001]\n",
      "Predict:  [0.195, 0.13, 0.5850000000000001]\n",
      "True Value: [0.1, 1, 0.1]\n"
     ]
    }
   ],
   "source": [
    "# Прогнозируется не только победа или поражение команды\n",
    "# А так же эмоциональное состояние и процент травмированных игроков\n",
    "\n",
    "weights = [0.3, 0.2, 0.9]\n",
    "\n",
    "wlrec = [0.65, 1.0, 1.0, 0.9]\n",
    "\n",
    "hurt  = [0.1, 0.0, 0.0, 0.1]\n",
    "win   = [  1,   1,   0,   1]\n",
    "sad   = [0.1, 0.0, 0.1, 0.2]\n",
    "\n",
    "input = wlrec[0]\n",
    "true_value = [hurt[0], win[0], sad[0]]\n",
    "\n",
    "error = [0, 0, 0] \n",
    "delta = [0, 0, 0]\n",
    "\n",
    "def neural_network(input, weights):\n",
    "    pred = ele_mul(input,weights)\n",
    "    return pred\n",
    "\n",
    "pred = neural_network(input,weights)\n",
    "\n",
    "\n",
    "for i in range(len(true_value)):\n",
    "    error[i] = (pred[i] - true_value[i]) ** 2\n",
    "    delta[i] = pred[i] - true_value[i]\n",
    "    \n",
    "def scalar_ele_mul(number, vector):\n",
    "    output = [0,0,0]\n",
    "\n",
    "    assert(len(output) == len(vector))\n",
    "\n",
    "    for i in range(len(vector)):\n",
    "        output[i] = number * vector[i]\n",
    "\n",
    "    return output\n",
    "\n",
    "weight_deltas = scalar_ele_mul(input,delta)\n",
    "\n",
    "alpha = 0.1\n",
    "\n",
    "for i in range(len(weights)):\n",
    "    weights[i] -= (weight_deltas[i] * alpha)\n",
    "print(\"Error: \", error)\n",
    "print(\"Weights:\" + str(weights))\n",
    "print(\"Weight Deltas:\" + str(weight_deltas))\n",
    "print(\"Predict: \", pred)\n",
    "print(\"True Value:\", true_value)"
   ]
  },
  {
   "cell_type": "markdown",
   "metadata": {},
   "source": [
    "### Gradient Descent with Multiple Inputs & Outputs"
   ]
  },
  {
   "cell_type": "code",
   "execution_count": 46,
   "metadata": {},
   "outputs": [
    {
     "name": "stdout",
     "output_type": "stream",
     "text": [
      "Error:  [0.20702500000000007, 0.0003999999999999963, 0.7482250000000001]\n",
      "Predict:  [0.555, 0.9800000000000001, 0.9650000000000001]\n",
      "True Value: [0.1, 1, 0.1]\n"
     ]
    }
   ],
   "source": [
    "#toes %win #fans\n",
    "weights = [ [0.1, 0.1, -0.3],#hurt?\n",
    "            [0.1, 0.2, 0.0], #win?\n",
    "            [0.0, 1.3, 0.1] ]#sad?\n",
    "\n",
    "\n",
    "def weight_sum(inputs_value, weights):\n",
    "    \n",
    "    assert len(inputs_value) == len(weights), 'Inputs Value And Weights Should Be Same Size'\n",
    "    \n",
    "    output = 0\n",
    "    \n",
    "    for i in range(len(inputs_value)):\n",
    "        output += (inputs_value[i] * weights[i])\n",
    "    return output\n",
    "\n",
    "def vect_mat_mul(input_vect, matrix_weight):\n",
    "    assert(len(input_vect) == len(matrix_weight))\n",
    "    output = [0,0,0]\n",
    "    for i in range(len(input_vect)):\n",
    "        output[i] = weight_sum(input_vect, matrix_weight[i])\n",
    "    return output\n",
    "\n",
    "def neural_network(input, weights):\n",
    "    pred = vect_mat_mul(input, weights)\n",
    "    return pred\n",
    "\n",
    "toes  = [8.5, 9.5, 9.9, 9.0]\n",
    "wlrec = [0.65,0.8, 0.8, 0.9]\n",
    "nfans = [1.2, 1.3, 0.5, 1.0]\n",
    "\n",
    "hurt  = [0.1, 0.0, 0.0, 0.1]\n",
    "win   = [  1,   1,   0,   1]\n",
    "sad   = [0.1, 0.0, 0.1, 0.2]\n",
    "\n",
    "alpha = 0.01\n",
    "\n",
    "input = [toes[0],wlrec[0],nfans[0]]\n",
    "true  = [hurt[0], win[0], sad[0]]\n",
    "\n",
    "pred = neural_network(input,weights)\n",
    "\n",
    "error = [0, 0, 0] \n",
    "delta = [0, 0, 0]\n",
    "\n",
    "for i in range(len(true)):\n",
    "    error[i] = (pred[i] - true[i]) ** 2\n",
    "    delta[i] = pred[i] - true[i]\n",
    "    \n",
    "print(\"Error: \", error)\n",
    "print(\"Predict: \", pred)\n",
    "print(\"True Value:\", true)"
   ]
  },
  {
   "cell_type": "code",
   "execution_count": 47,
   "metadata": {},
   "outputs": [],
   "source": [
    "import numpy as np\n",
    "def outer_prod(a, b):\n",
    "    \n",
    "    # just a matrix of zeros\n",
    "    out = np.zeros((len(a), len(b)))\n",
    "\n",
    "    for i in range(len(a)):\n",
    "        for j in range(len(b)):\n",
    "            out[i][j] = a[i] * b[j]\n",
    "    return out\n",
    "\n",
    "weight_deltas = outer_prod(input,delta)\n",
    "\n",
    "for i in range(len(weights)):\n",
    "    for j in range(len(weights[0])):\n",
    "        weights[i][j] -= alpha * weight_deltas[i][j]"
   ]
  },
  {
   "cell_type": "code",
   "execution_count": 48,
   "metadata": {},
   "outputs": [
    {
     "data": {
      "text/plain": [
       "[[0.061325, 0.1017, -0.373525],\n",
       " [0.0970425, 0.20013, -0.005622500000000002],\n",
       " [-0.0054600000000000004, 1.30024, 0.08962]]"
      ]
     },
     "execution_count": 48,
     "metadata": {},
     "output_type": "execute_result"
    }
   ],
   "source": [
    "weights"
   ]
  },
  {
   "cell_type": "code",
   "execution_count": null,
   "metadata": {},
   "outputs": [],
   "source": []
  }
 ],
 "metadata": {
  "kernelspec": {
   "display_name": "Python 3",
   "language": "python",
   "name": "python3"
  },
  "language_info": {
   "codemirror_mode": {
    "name": "ipython",
    "version": 3
   },
   "file_extension": ".py",
   "mimetype": "text/x-python",
   "name": "python",
   "nbconvert_exporter": "python",
   "pygments_lexer": "ipython3",
   "version": "3.6.2"
  }
 },
 "nbformat": 4,
 "nbformat_minor": 2
}
